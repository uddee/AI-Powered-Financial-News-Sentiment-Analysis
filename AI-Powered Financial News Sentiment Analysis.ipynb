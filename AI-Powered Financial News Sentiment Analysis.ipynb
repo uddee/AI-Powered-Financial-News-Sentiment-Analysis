{
 "cells": [
  {
   "cell_type": "code",
   "execution_count": null,
   "metadata": {},
   "outputs": [],
   "source": [
    "# Install necessary libraries\n",
    "%pip install transformers\n",
    "\n",
    "# Import the necessary library\n",
    "from transformers import pipeline\n",
    "\n",
    "# Initialize the sentiment analysis model\n",
    "classifier = pipeline(\"sentiment-analysis\")\n",
    "\n",
    "# Define a simple financial news text\n",
    "financial_news = \"\"\"\n",
    "Apple's stock has surged after the announcement of its new iPhone model, setting a new benchmark in the smartphone industry. \n",
    "Investors are optimistic about its market dominance in the next quarter.\n",
    "\"\"\"\n",
    "\n",
    "# Perform sentiment analysis\n",
    "result = classifier(financial_news)\n",
    "\n",
    "# Display the result\n",
    "print(result)\n"
   ]
  }
 ],
 "metadata": {
  "kernelspec": {
   "display_name": "Python 3",
   "language": "python",
   "name": "python3"
  },
  "language_info": {
   "codemirror_mode": {
    "name": "ipython",
    "version": 3
   },
   "file_extension": ".py",
   "mimetype": "text/x-python",
   "name": "python",
   "nbconvert_exporter": "python",
   "pygments_lexer": "ipython3",
   "version": "3.12.9"
  }
 },
 "nbformat": 4,
 "nbformat_minor": 2
}
